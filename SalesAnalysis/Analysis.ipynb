{
 "cells": [
  {
   "cell_type": "markdown",
   "id": "ea97b589-1162-4ce7-a401-6b4a884e2fb8",
   "metadata": {},
   "source": [
    "# Sales Analysis\n",
    "\n",
    "import libraries"
   ]
  },
  {
   "cell_type": "code",
   "execution_count": 1,
   "id": "fc140535-d5fb-4012-a2bc-9fa7236110db",
   "metadata": {},
   "outputs": [],
   "source": [
    "import pandas as pd\n",
    "import numpy as np\n",
    "import os"
   ]
  },
  {
   "cell_type": "code",
   "execution_count": 2,
   "id": "0fb21e76-5745-49a1-aa6b-1350bcb601c7",
   "metadata": {},
   "outputs": [],
   "source": [
    "pd.options.display.float_format = '{:,.2f}'.format"
   ]
  },
  {
   "cell_type": "markdown",
   "id": "5e1a08cf-74f9-4603-9ffe-953dcd1c9533",
   "metadata": {},
   "source": [
    "get files names using os.listdir"
   ]
  },
  {
   "cell_type": "code",
   "execution_count": 3,
   "id": "62f3e19c-bfd8-4007-90f5-7eb58219c5f0",
   "metadata": {},
   "outputs": [],
   "source": [
    "files = [file for file in os.listdir(\"./Sales_Data\")]\n",
    "#print(files)"
   ]
  },
  {
   "cell_type": "markdown",
   "id": "a24afa62-598c-42e6-89d7-9bcf97fa8eee",
   "metadata": {},
   "source": [
    "#### Importing Files\n",
    "\n",
    "Reading each file individually and then concatenete them into a single DataFrame"
   ]
  },
  {
   "cell_type": "code",
   "execution_count": 4,
   "id": "906a6a66-e0a6-4307-8533-3c0fd7cb03ac",
   "metadata": {},
   "outputs": [
    {
     "data": {
      "text/plain": [
       "(186850, 6)"
      ]
     },
     "execution_count": 4,
     "metadata": {},
     "output_type": "execute_result"
    }
   ],
   "source": [
    "paths = []\n",
    "for m in files:\n",
    "    paths.append(f\"./Sales_Data/{m}\")\n",
    "    \n",
    "df = pd.concat(map(pd.read_csv, paths))\n",
    "df.shape"
   ]
  },
  {
   "cell_type": "code",
   "execution_count": 5,
   "id": "936184d5-7f09-4264-9371-4addd176c70a",
   "metadata": {},
   "outputs": [
    {
     "data": {
      "text/html": [
       "<div>\n",
       "<style scoped>\n",
       "    .dataframe tbody tr th:only-of-type {\n",
       "        vertical-align: middle;\n",
       "    }\n",
       "\n",
       "    .dataframe tbody tr th {\n",
       "        vertical-align: top;\n",
       "    }\n",
       "\n",
       "    .dataframe thead th {\n",
       "        text-align: right;\n",
       "    }\n",
       "</style>\n",
       "<table border=\"1\" class=\"dataframe\">\n",
       "  <thead>\n",
       "    <tr style=\"text-align: right;\">\n",
       "      <th></th>\n",
       "      <th>Order ID</th>\n",
       "      <th>Product</th>\n",
       "      <th>Quantity Ordered</th>\n",
       "      <th>Price Each</th>\n",
       "      <th>Order Date</th>\n",
       "      <th>Purchase Address</th>\n",
       "    </tr>\n",
       "  </thead>\n",
       "  <tbody>\n",
       "    <tr>\n",
       "      <th>0</th>\n",
       "      <td>176558</td>\n",
       "      <td>USB-C Charging Cable</td>\n",
       "      <td>2</td>\n",
       "      <td>11.95</td>\n",
       "      <td>04/19/19 08:46</td>\n",
       "      <td>917 1st St, Dallas, TX 75001</td>\n",
       "    </tr>\n",
       "    <tr>\n",
       "      <th>1</th>\n",
       "      <td>NaN</td>\n",
       "      <td>NaN</td>\n",
       "      <td>NaN</td>\n",
       "      <td>NaN</td>\n",
       "      <td>NaN</td>\n",
       "      <td>NaN</td>\n",
       "    </tr>\n",
       "    <tr>\n",
       "      <th>2</th>\n",
       "      <td>176559</td>\n",
       "      <td>Bose SoundSport Headphones</td>\n",
       "      <td>1</td>\n",
       "      <td>99.99</td>\n",
       "      <td>04/07/19 22:30</td>\n",
       "      <td>682 Chestnut St, Boston, MA 02215</td>\n",
       "    </tr>\n",
       "    <tr>\n",
       "      <th>3</th>\n",
       "      <td>176560</td>\n",
       "      <td>Google Phone</td>\n",
       "      <td>1</td>\n",
       "      <td>600</td>\n",
       "      <td>04/12/19 14:38</td>\n",
       "      <td>669 Spruce St, Los Angeles, CA 90001</td>\n",
       "    </tr>\n",
       "    <tr>\n",
       "      <th>4</th>\n",
       "      <td>176560</td>\n",
       "      <td>Wired Headphones</td>\n",
       "      <td>1</td>\n",
       "      <td>11.99</td>\n",
       "      <td>04/12/19 14:38</td>\n",
       "      <td>669 Spruce St, Los Angeles, CA 90001</td>\n",
       "    </tr>\n",
       "  </tbody>\n",
       "</table>\n",
       "</div>"
      ],
      "text/plain": [
       "  Order ID                     Product Quantity Ordered Price Each  \\\n",
       "0   176558        USB-C Charging Cable                2      11.95   \n",
       "1      NaN                         NaN              NaN        NaN   \n",
       "2   176559  Bose SoundSport Headphones                1      99.99   \n",
       "3   176560                Google Phone                1        600   \n",
       "4   176560            Wired Headphones                1      11.99   \n",
       "\n",
       "       Order Date                      Purchase Address  \n",
       "0  04/19/19 08:46          917 1st St, Dallas, TX 75001  \n",
       "1             NaN                                   NaN  \n",
       "2  04/07/19 22:30     682 Chestnut St, Boston, MA 02215  \n",
       "3  04/12/19 14:38  669 Spruce St, Los Angeles, CA 90001  \n",
       "4  04/12/19 14:38  669 Spruce St, Los Angeles, CA 90001  "
      ]
     },
     "execution_count": 5,
     "metadata": {},
     "output_type": "execute_result"
    }
   ],
   "source": [
    "df.head()"
   ]
  },
  {
   "cell_type": "markdown",
   "id": "9dd1fecc-82ea-4e53-9978-e1fe3ec56792",
   "metadata": {},
   "source": [
    "### What was the best month for sales? How much was earned that month?"
   ]
  },
  {
   "cell_type": "markdown",
   "id": "042a9c93-1157-4866-9940-0b534ed0df0e",
   "metadata": {},
   "source": [
    "#### Cleaning the data\n",
    "droping heading values that were copied into the dataset, droping NaN values"
   ]
  },
  {
   "cell_type": "code",
   "execution_count": 6,
   "id": "a07e2c33-3b7f-40c5-bfcb-014441072bd3",
   "metadata": {},
   "outputs": [
    {
     "data": {
      "text/plain": [
       "(182735, 6)"
      ]
     },
     "execution_count": 6,
     "metadata": {},
     "output_type": "execute_result"
    }
   ],
   "source": [
    "df = df.drop(df[df['Order Date'] == 'Order Date'].index)\n",
    "df.dropna(inplace=True)\n",
    "df.shape"
   ]
  },
  {
   "cell_type": "markdown",
   "id": "bdfbf50d-dbe0-42b7-ab20-1e0456c9a8ec",
   "metadata": {},
   "source": [
    "setting the correct data types to columns"
   ]
  },
  {
   "cell_type": "code",
   "execution_count": 7,
   "id": "e671d8f6-0a5a-4473-9857-ad6d339294ae",
   "metadata": {},
   "outputs": [],
   "source": [
    "df['Order Date'] = pd.to_datetime(df['Order Date'], format='%m/%d/%y %H:%M')\n",
    "df['Quantity Ordered'] = pd.to_numeric(df['Quantity Ordered'])\n",
    "df['Price Each'] = pd.to_numeric(df['Price Each'])"
   ]
  },
  {
   "cell_type": "code",
   "execution_count": 8,
   "id": "35b3f6fa-0da6-4761-9089-a12f4f53721b",
   "metadata": {},
   "outputs": [],
   "source": [
    "df['Total'] = df['Quantity Ordered']*df['Price Each']"
   ]
  },
  {
   "cell_type": "code",
   "execution_count": 10,
   "id": "5f6978e5-977b-4e47-a6af-8dc5b7b5bf85",
   "metadata": {},
   "outputs": [
    {
     "name": "stdout",
     "output_type": "stream",
     "text": [
      "the greater sales amount was for 4,557,905.42\n"
     ]
    }
   ],
   "source": [
    "monthly = df.groupby(df['Order Date'].dt.month)['Total'].sum()\n",
    "print(f'the greater sales amount was for {monthly.max():,.2f}')"
   ]
  },
  {
   "cell_type": "code",
   "execution_count": 11,
   "id": "e22f8946-2bca-4d5d-83a0-6dc0c0695d10",
   "metadata": {},
   "outputs": [
    {
     "data": {
      "text/plain": [
       "<AxesSubplot:xlabel='Order Date'>"
      ]
     },
     "execution_count": 11,
     "metadata": {},
     "output_type": "execute_result"
    },
    {
     "data": {
      "image/png": "[encoded data removed]",
      "text/plain": [
       "<Figure size 640x480 with 1 Axes>"
      ]
     },
     "metadata": {},
     "output_type": "display_data"
    }
   ],
   "source": [
    "monthly.plot.bar()"
   ]
  },
  {
   "cell_type": "markdown",
   "id": "55ab67db-aec8-4da2-933b-9a8c0626cd71",
   "metadata": {},
   "source": [
    "### What city has the greates number of sales?"
   ]
  },
  {
   "cell_type": "code",
   "execution_count": 16,
   "id": "27e5b282-d3b4-445d-af2f-d55350aca0f5",
   "metadata": {},
   "outputs": [],
   "source": [
    "df['Purchase Address'] = df['Purchase Address'].astype('string') #convert the object type into string"
   ]
  },
  {
   "cell_type": "code",
   "execution_count": 17,
   "id": "3bf7b513-162f-4704-9224-59b85a291e02",
   "metadata": {},
   "outputs": [
    {
     "data": {
      "text/plain": [
       "string[python]"
      ]
     },
     "execution_count": 17,
     "metadata": {},
     "output_type": "execute_result"
    }
   ],
   "source": [
    "df['Purchase Address'].dtype"
   ]
  },
  {
   "cell_type": "markdown",
   "id": "8b540b7a-ff70-4401-8d79-7b8f0228aae3",
   "metadata": {},
   "source": [
    "I could have used the `.apply()` method, `df['City'] = df['Purchase Address'].apply(lambda x: x.split(',')[1])`"
   ]
  },
  {
   "cell_type": "code",
   "execution_count": 31,
   "id": "34889c3d-93e7-4fb4-b6a3-1bf1b2db6882",
   "metadata": {},
   "outputs": [
    {
     "data": {
      "text/plain": [
       "City\n",
       " Portland (ME)          444,110.53\n",
       " Austin (TX)          1,786,745.52\n",
       " Portland (OR)        1,832,538.71\n",
       " Seattle (WA)         2,693,048.60\n",
       " Dallas (TX)          2,717,793.72\n",
       " Atlanta (GA)         2,741,642.05\n",
       " Boston (MA)          3,604,080.86\n",
       " New York City (NY)   4,581,658.91\n",
       " Los Angeles (CA)     5,354,039.93\n",
       " San Francisco (CA)   8,124,120.94\n",
       "Name: Total, dtype: float64"
      ]
     },
     "execution_count": 31,
     "metadata": {},
     "output_type": "execute_result"
    }
   ],
   "source": [
    "#df['City'] = df['Purchase Address'].str.split(',').str[1]\n",
    "df['City'] = df['Purchase Address'].apply(lambda x: x.split(',')[1] + ' (' + x.split(',')[2].split(' ')[1] + ')')\n",
    "cities = df.groupby(df['City'])['Total'].sum()\n",
    "cities.sort_values()"
   ]
  },
  {
   "cell_type": "code",
   "execution_count": 32,
   "id": "24583b79-e245-468f-b6de-a2e877273f61",
   "metadata": {},
   "outputs": [
    {
     "data": {
      "text/plain": [
       "<AxesSubplot:xlabel='City'>"
      ]
     },
     "execution_count": 32,
     "metadata": {},
     "output_type": "execute_result"
    },
    {
     "data": {
      "image/png": "[encoded data removed]",
      "text/plain": [
       "<Figure size 640x480 with 1 Axes>"
      ]
     },
     "metadata": {},
     "output_type": "display_data"
    }
   ],
   "source": [
    "cities.sort_values().plot.bar()"
   ]
  },
  {
   "cell_type": "code",
   "execution_count": null,
   "id": "237be23e-82ff-4770-9fe1-f77d528dae44",
   "metadata": {},
   "outputs": [],
   "source": []
  }
 ],
 "metadata": {
  "kernelspec": {
   "display_name": "Python 3 (ipykernel)",
   "language": "python",
   "name": "python3"
  },
  "language_info": {
   "codemirror_mode": {
    "name": "ipython",
    "version": 3
   },
   "file_extension": ".py",
   "mimetype": "text/x-python",
   "name": "python",
   "nbconvert_exporter": "python",
   "pygments_lexer": "ipython3",
   "version": "3.10.4"
  }
 },
 "nbformat": 4,
 "nbformat_minor": 5
}
